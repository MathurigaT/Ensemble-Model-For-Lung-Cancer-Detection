{
  "nbformat": 4,
  "nbformat_minor": 0,
  "metadata": {
    "colab": {
      "provenance": [],
      "machine_shape": "hm",
      "gpuType": "L4"
    },
    "kernelspec": {
      "name": "python3",
      "display_name": "Python 3"
    },
    "language_info": {
      "name": "python"
    },
    "accelerator": "GPU"
  },
  "cells": [
    {
      "cell_type": "code",
      "execution_count": null,
      "metadata": {
        "colab": {
          "base_uri": "https://localhost:8080/"
        },
        "id": "zGGkOB7g9jP7",
        "outputId": "b765fd97-90aa-4ffe-becc-7b666b82bcd0"
      },
      "outputs": [
        {
          "output_type": "stream",
          "name": "stdout",
          "text": [
            "Mounted at /content/drive\n"
          ]
        }
      ],
      "source": [
        "from google.colab import drive\n",
        "drive.mount('/content/drive')"
      ]
    },
    {
      "cell_type": "code",
      "source": [
        "import os\n",
        "import shutil\n",
        "\n",
        "root_dir = \"drive/MyDrive/NewLungData\""
      ],
      "metadata": {
        "id": "47rjquOx9v7P"
      },
      "execution_count": null,
      "outputs": []
    },
    {
      "cell_type": "code",
      "source": [
        "import tensorflow as tf\n",
        "from tensorflow.keras.preprocessing.image import ImageDataGenerator\n",
        "import os\n",
        "import numpy as np\n",
        "\n",
        "# Define data directory\n",
        "data_dir = \"drive/MyDrive/NewLungData\"\n",
        "\n",
        "# Define mean and standard deviation for normalization\n",
        "mean = np.array([0.485, 0.456, 0.406])\n",
        "std = np.array([0.229, 0.224, 0.225])\n",
        "\n",
        "# Define image size\n",
        "image_size = (256, 256)\n",
        "\n",
        "# Define batch size\n",
        "batch_size = 32\n",
        "\n",
        "# Define data generators for train, validation, and test sets\n",
        "train_datagen = ImageDataGenerator(\n",
        "    rescale=1./255\n",
        ")\n",
        "\n",
        "val_datagen = ImageDataGenerator(rescale=1./255)\n",
        "test_datagen = ImageDataGenerator(rescale=1./255)\n",
        "\n",
        "train_generator = train_datagen.flow_from_directory(\n",
        "    os.path.join(data_dir, 'train'),\n",
        "    target_size=image_size,\n",
        "    batch_size=batch_size,\n",
        "    class_mode='categorical'\n",
        ")\n",
        "\n",
        "val_generator = val_datagen.flow_from_directory(\n",
        "    os.path.join(data_dir, 'val'),\n",
        "    target_size=image_size,\n",
        "    batch_size=batch_size,\n",
        "    class_mode='categorical'\n",
        ")\n",
        "\n",
        "test_generator = test_datagen.flow_from_directory(\n",
        "    os.path.join(data_dir, 'test'),\n",
        "    target_size=image_size,\n",
        "    batch_size=batch_size,\n",
        "    class_mode='categorical'\n",
        ")"
      ],
      "metadata": {
        "colab": {
          "base_uri": "https://localhost:8080/"
        },
        "id": "bTO-7sMq9yex",
        "outputId": "7de90d80-4d35-411b-c320-f7583aef63da"
      },
      "execution_count": null,
      "outputs": [
        {
          "output_type": "stream",
          "name": "stdout",
          "text": [
            "Found 5641 images belonging to 2 classes.\n",
            "Found 1297 images belonging to 2 classes.\n",
            "Found 1622 images belonging to 2 classes.\n"
          ]
        }
      ]
    },
    {
      "cell_type": "code",
      "source": [
        "# Load pre-trained InceptionV3 model\n",
        "base_model = tf.keras.applications.InceptionV3(include_top=False, weights='imagenet', input_shape=(299, 299, 3))\n"
      ],
      "metadata": {
        "colab": {
          "base_uri": "https://localhost:8080/"
        },
        "id": "rTd0xqHR96O1",
        "outputId": "be620e0f-1adf-4ed3-fbb6-253a737e5932"
      },
      "execution_count": null,
      "outputs": [
        {
          "output_type": "stream",
          "name": "stdout",
          "text": [
            "Downloading data from https://storage.googleapis.com/tensorflow/keras-applications/inception_v3/inception_v3_weights_tf_dim_ordering_tf_kernels_notop.h5\n",
            "87910968/87910968 [==============================] - 0s 0us/step\n"
          ]
        }
      ]
    },
    {
      "cell_type": "code",
      "source": [
        "# Freeze convolutional base to prevent weights are being updated during training process\n",
        "base_model.trainable = False"
      ],
      "metadata": {
        "id": "rNYAbWq9-IYN"
      },
      "execution_count": null,
      "outputs": []
    },
    {
      "cell_type": "code",
      "source": [
        "# Base model architecture\n",
        "base_model.summary()"
      ],
      "metadata": {
        "id": "OONm6zZn-Mr5"
      },
      "execution_count": null,
      "outputs": []
    },
    {
      "cell_type": "code",
      "source": [
        "# Add custom classification layers\n",
        "dropout_rate = 0.5\n",
        "num_classes = 2\n",
        "\n",
        "# Define the fully connected layers\n",
        "classifier = tf.keras.Sequential([\n",
        "    # Use GlobalAveragePooling2D instead of Flatten\n",
        "    tf.keras.layers.GlobalAveragePooling2D(),\n",
        "    tf.keras.layers.Dense(4096, activation='relu'),\n",
        "    tf.keras.layers.Dropout(0.5),\n",
        "    tf.keras.layers.Dense(4096, activation='relu'),\n",
        "    tf.keras.layers.Dropout(0.5),\n",
        "    tf.keras.layers.Dense(num_classes, activation='softmax')\n",
        "])\n",
        "\n",
        "# Concatenate the pre-trained convolutional base with the new classifier\n",
        "model = tf.keras.Sequential([base_model, classifier])\n"
      ],
      "metadata": {
        "id": "cIXGZgK--RYX"
      },
      "execution_count": null,
      "outputs": []
    },
    {
      "cell_type": "code",
      "source": [
        "base_learning_rate = 0.0001\n",
        "model.compile(optimizer=tf.keras.optimizers.Adam(learning_rate=base_learning_rate,weight_decay=1e-5),\n",
        "              loss=tf.keras.losses.BinaryCrossentropy(from_logits=True),\n",
        "              metrics=['accuracy'])"
      ],
      "metadata": {
        "id": "ArB_sRXu_bpG"
      },
      "execution_count": null,
      "outputs": []
    },
    {
      "cell_type": "code",
      "source": [
        "initial_epochs = 10\n",
        "from tensorflow.keras.callbacks import EarlyStopping\n",
        "\n",
        "# Define early stopping criteria\n",
        "early_stopping = EarlyStopping(monitor='val_loss', patience=5, restore_best_weights=True)\n",
        "\n",
        "# Train the model\n",
        "history = model.fit(train_generator, epochs=initial_epochs, validation_data=val_generator,callbacks=[early_stopping])"
      ],
      "metadata": {
        "colab": {
          "base_uri": "https://localhost:8080/"
        },
        "id": "oznBj75r_mPx",
        "outputId": "9cba5b46-bbd8-48b3-f761-e4ab7d2879a6"
      },
      "execution_count": null,
      "outputs": [
        {
          "output_type": "stream",
          "name": "stdout",
          "text": [
            "Epoch 1/10\n"
          ]
        },
        {
          "output_type": "stream",
          "name": "stderr",
          "text": [
            "/usr/local/lib/python3.10/dist-packages/keras/src/backend.py:5818: UserWarning: \"`binary_crossentropy` received `from_logits=True`, but the `output` argument was produced by a Sigmoid activation and thus does not represent logits. Was this intended?\n",
            "  output, from_logits = _get_logits(\n"
          ]
        },
        {
          "output_type": "stream",
          "name": "stdout",
          "text": [
            "177/177 [==============================] - 2365s 13s/step - loss: 0.4294 - accuracy: 0.8186 - val_loss: 0.2742 - val_accuracy: 0.8828\n",
            "Epoch 2/10\n",
            "177/177 [==============================] - 21s 118ms/step - loss: 0.3657 - accuracy: 0.8458 - val_loss: 0.2571 - val_accuracy: 0.8975\n",
            "Epoch 3/10\n",
            "177/177 [==============================] - 21s 119ms/step - loss: 0.3188 - accuracy: 0.8693 - val_loss: 0.2484 - val_accuracy: 0.9052\n",
            "Epoch 4/10\n",
            "177/177 [==============================] - 21s 117ms/step - loss: 0.2952 - accuracy: 0.8779 - val_loss: 0.2656 - val_accuracy: 0.8897\n",
            "Epoch 5/10\n",
            "177/177 [==============================] - 21s 116ms/step - loss: 0.2659 - accuracy: 0.8935 - val_loss: 0.2364 - val_accuracy: 0.9121\n",
            "Epoch 6/10\n",
            "177/177 [==============================] - 21s 116ms/step - loss: 0.2557 - accuracy: 0.8963 - val_loss: 0.2252 - val_accuracy: 0.9082\n",
            "Epoch 7/10\n",
            "177/177 [==============================] - 21s 119ms/step - loss: 0.2288 - accuracy: 0.9059 - val_loss: 0.2585 - val_accuracy: 0.8998\n",
            "Epoch 8/10\n",
            "177/177 [==============================] - 21s 117ms/step - loss: 0.2081 - accuracy: 0.9174 - val_loss: 0.2440 - val_accuracy: 0.9098\n",
            "Epoch 9/10\n",
            "177/177 [==============================] - 21s 117ms/step - loss: 0.1913 - accuracy: 0.9215 - val_loss: 0.2340 - val_accuracy: 0.9152\n",
            "Epoch 10/10\n",
            "177/177 [==============================] - 21s 117ms/step - loss: 0.1841 - accuracy: 0.9247 - val_loss: 0.2506 - val_accuracy: 0.9098\n"
          ]
        }
      ]
    },
    {
      "cell_type": "code",
      "source": [
        "loss, accuracy = model.evaluate(test_generator)\n",
        "print('Test accuracy of', str(accuracy))\n",
        "\n",
        "# Define the file path where you want to save the model\n",
        "model_save_path =  \"drive/MyDrive/NewLungData/tenserflowModels/inceptionv3\""
      ],
      "metadata": {
        "colab": {
          "base_uri": "https://localhost:8080/"
        },
        "id": "Yv0ifEyQA62M",
        "outputId": "72d18245-69f9-4e79-b322-46c09c9e0c50"
      },
      "execution_count": null,
      "outputs": [
        {
          "output_type": "stream",
          "name": "stdout",
          "text": [
            "51/51 [==============================] - 571s 11s/step - loss: 0.2874 - accuracy: 0.8859\n",
            "Test accuracy of 0.8859432935714722\n"
          ]
        }
      ]
    },
    {
      "cell_type": "code",
      "source": [
        "import matplotlib.pyplot as plt\n",
        "import numpy as np\n",
        "acc = history.history['accuracy']\n",
        "val_acc = history.history['val_accuracy']\n",
        "\n",
        "loss = history.history['loss']\n",
        "val_loss = history.history['val_loss']\n",
        "\n",
        "plt.figure(figsize=(8, 8))\n",
        "plt.subplot(2, 1, 1)\n",
        "plt.plot(acc, label='Training Accuracy')\n",
        "plt.plot(val_acc, label='Validation Accuracy')\n",
        "plt.legend(loc='lower right')\n",
        "plt.ylabel('Accuracy')\n",
        "plt.ylim([min(plt.ylim()),1])\n",
        "plt.title('Training and Validation Accuracy')\n",
        "\n",
        "plt.subplot(2, 1, 2)\n",
        "plt.plot(loss, label='Training Loss')\n",
        "plt.plot(val_loss, label='Validation Loss')\n",
        "plt.legend(loc='upper right')\n",
        "plt.ylabel('Cross Entropy')\n",
        "plt.ylim([0,1.0])\n",
        "plt.title('Training and Validation Loss')\n",
        "plt.xlabel('epoch')\n",
        "plt.show()"
      ],
      "metadata": {
        "colab": {
          "base_uri": "https://localhost:8080/",
          "height": 718
        },
        "id": "pyltYLTJA_6x",
        "outputId": "9c800c24-245e-4587-8f6e-734a8b25bee7"
      },
      "execution_count": null,
      "outputs": [
        {
          "output_type": "display_data",
          "data": {
            "text/plain": [
              "<Figure size 800x800 with 2 Axes>"
            ],
            "image/png": "[encoded data removed]"
          },
          "metadata": {}
        }
      ]
    },
    {
      "cell_type": "code",
      "source": [
        "model.summary()"
      ],
      "metadata": {
        "colab": {
          "base_uri": "https://localhost:8080/"
        },
        "id": "PGDTSiZlBCzr",
        "outputId": "1786eba0-d481-4363-c8a9-4fc24b79fbd1"
      },
      "execution_count": null,
      "outputs": [
        {
          "output_type": "stream",
          "name": "stdout",
          "text": [
            "Model: \"sequential_1\"\n",
            "_________________________________________________________________\n",
            " Layer (type)                Output Shape              Param #   \n",
            "=================================================================\n",
            " inception_v3 (Functional)   (None, 8, 8, 2048)        21802784  \n",
            "                                                                 \n",
            " sequential (Sequential)     (None, 2)                 25182210  \n",
            "                                                                 \n",
            "=================================================================\n",
            "Total params: 46984994 (179.23 MB)\n",
            "Trainable params: 25182210 (96.06 MB)\n",
            "Non-trainable params: 21802784 (83.17 MB)\n",
            "_________________________________________________________________\n"
          ]
        }
      ]
    },
    {
      "cell_type": "code",
      "source": [
        "# No of layers in the base model\n",
        "print(\"Number of layers in the base model: \", len(base_model.layers))"
      ],
      "metadata": {
        "colab": {
          "base_uri": "https://localhost:8080/"
        },
        "id": "BzAhRrXLQdIR",
        "outputId": "7b1d8d98-06c4-4a7f-e2e8-a25eb97655d5"
      },
      "execution_count": null,
      "outputs": [
        {
          "output_type": "stream",
          "name": "stdout",
          "text": [
            "Number of layers in the base model:  311\n"
          ]
        }
      ]
    },
    {
      "cell_type": "code",
      "source": [
        "# Define grid search parameters for fine-tuning layers\n",
        "fine_tune_layers= [200,150,100,50]"
      ],
      "metadata": {
        "id": "SZCORZGpQjj-"
      },
      "execution_count": null,
      "outputs": []
    },
    {
      "cell_type": "code",
      "source": [
        "# Perform grid search for fine-tuning layers\n",
        "results = []\n",
        "for fine_tune_at in fine_tune_layers:\n",
        "    print(\"-----------------------------------------------------\")\n",
        "    print(\"Freeze the layers before layer:\", fine_tune_at)\n",
        "    base_model.trainable = True\n",
        "\n",
        "    # Freeze all the layers before the `fine_tune_at` layer\n",
        "    for layer in base_model.layers[:fine_tune_at]:\n",
        "        layer.trainable = False\n",
        "\n",
        "    trainable_params = sum([tf.keras.backend.count_params(w) for w in model.trainable_weights])\n",
        "\n",
        "    print(\"Trainable parameters:\",trainable_params)\n",
        "\n",
        "    model.compile(optimizer=tf.keras.optimizers.Adam(learning_rate=base_learning_rate/10,weight_decay=1e-5),\n",
        "              loss=tf.keras.losses.BinaryCrossentropy(from_logits=True),\n",
        "              metrics=['accuracy'])\n",
        "\n",
        "\n",
        "    fine_tune_epochs = 10\n",
        "    total_epochs =  initial_epochs + fine_tune_epochs\n",
        "\n",
        "    # Define early stopping criteria\n",
        "    early_stopping = EarlyStopping(monitor='val_loss', patience=5, restore_best_weights=True)\n",
        "\n",
        "    history_fine = model.fit(train_generator, epochs=total_epochs, initial_epoch=history.epoch[-1],validation_data=val_generator,callbacks=[early_stopping])\n",
        "\n",
        "    loss, accuracy = model.evaluate(test_generator)\n",
        "    print('Test accuracy of',no_of_fine_tune_layer,\"is : \", str(accuracy))\n",
        "\n",
        "    # Define the file path where you want to save the model\n",
        "    model_save_path =  \"drive/MyDrive/NewLungData/tenserflowModels/inceptionv3_fn_\"+str(no_of_fine_tune_layer)\n",
        "\n",
        "    # Save the entire model to a single HDF5 file\n",
        "    model.save(model_save_path)"
      ],
      "metadata": {
        "colab": {
          "base_uri": "https://localhost:8080/"
        },
        "id": "hrHSvmTRQ1Cc",
        "outputId": "f27aea6e-6531-4078-a41a-dd4f6e64ec2b"
      },
      "execution_count": null,
      "outputs": [
        {
          "output_type": "stream",
          "name": "stdout",
          "text": [
            "-----------------------------------------------------\n",
            "No Of Fine-tuning layers: 200\n",
            "Trainable parameters: 39986498\n",
            "Epoch 10/20\n"
          ]
        },
        {
          "output_type": "stream",
          "name": "stderr",
          "text": [
            "/usr/local/lib/python3.10/dist-packages/keras/src/backend.py:5818: UserWarning: \"`binary_crossentropy` received `from_logits=True`, but the `output` argument was produced by a Sigmoid activation and thus does not represent logits. Was this intended?\n",
            "  output, from_logits = _get_logits(\n"
          ]
        },
        {
          "output_type": "stream",
          "name": "stdout",
          "text": [
            "177/177 [==============================] - 45s 144ms/step - loss: 0.3592 - accuracy: 0.8607 - val_loss: 0.2517 - val_accuracy: 0.9044\n",
            "Epoch 11/20\n",
            "177/177 [==============================] - 22s 122ms/step - loss: 0.1648 - accuracy: 0.9374 - val_loss: 0.2272 - val_accuracy: 0.9221\n",
            "Epoch 12/20\n",
            "177/177 [==============================] - 21s 116ms/step - loss: 0.0790 - accuracy: 0.9725 - val_loss: 0.2235 - val_accuracy: 0.9306\n",
            "Epoch 13/20\n",
            "177/177 [==============================] - 21s 119ms/step - loss: 0.0409 - accuracy: 0.9878 - val_loss: 0.2415 - val_accuracy: 0.9322\n",
            "Epoch 14/20\n",
            "177/177 [==============================] - 21s 119ms/step - loss: 0.0284 - accuracy: 0.9918 - val_loss: 0.2597 - val_accuracy: 0.9360\n",
            "Epoch 15/20\n",
            "177/177 [==============================] - 21s 118ms/step - loss: 0.0131 - accuracy: 0.9973 - val_loss: 0.2684 - val_accuracy: 0.9352\n",
            "Epoch 16/20\n",
            "177/177 [==============================] - 21s 118ms/step - loss: 0.0127 - accuracy: 0.9961 - val_loss: 0.3015 - val_accuracy: 0.9322\n",
            "Epoch 17/20\n",
            "177/177 [==============================] - 22s 122ms/step - loss: 0.0093 - accuracy: 0.9977 - val_loss: 0.2976 - val_accuracy: 0.9345\n",
            "51/51 [==============================] - 5s 93ms/step - loss: 0.2552 - accuracy: 0.9143\n",
            "Test accuracy of 200 is :  0.9143033027648926\n",
            "-----------------------------------------------------\n",
            "No Of Fine-tuning layers: 150\n",
            "Trainable parameters: 42549186\n",
            "Epoch 10/20\n"
          ]
        },
        {
          "output_type": "stream",
          "name": "stderr",
          "text": [
            "/usr/local/lib/python3.10/dist-packages/keras/src/backend.py:5818: UserWarning: \"`binary_crossentropy` received `from_logits=True`, but the `output` argument was produced by a Sigmoid activation and thus does not represent logits. Was this intended?\n",
            "  output, from_logits = _get_logits(\n"
          ]
        },
        {
          "output_type": "stream",
          "name": "stdout",
          "text": [
            "177/177 [==============================] - 41s 131ms/step - loss: 0.2539 - accuracy: 0.9018 - val_loss: 0.1985 - val_accuracy: 0.9322\n",
            "Epoch 11/20\n",
            "177/177 [==============================] - 22s 123ms/step - loss: 0.0974 - accuracy: 0.9658 - val_loss: 0.1984 - val_accuracy: 0.9429\n",
            "Epoch 12/20\n",
            "177/177 [==============================] - 21s 121ms/step - loss: 0.0395 - accuracy: 0.9869 - val_loss: 0.1981 - val_accuracy: 0.9468\n",
            "Epoch 13/20\n",
            "177/177 [==============================] - 21s 120ms/step - loss: 0.0223 - accuracy: 0.9952 - val_loss: 0.2147 - val_accuracy: 0.9375\n",
            "Epoch 14/20\n",
            "177/177 [==============================] - 21s 117ms/step - loss: 0.0149 - accuracy: 0.9961 - val_loss: 0.2276 - val_accuracy: 0.9422\n",
            "Epoch 15/20\n",
            "177/177 [==============================] - 22s 123ms/step - loss: 0.0107 - accuracy: 0.9968 - val_loss: 0.2430 - val_accuracy: 0.9460\n",
            "Epoch 16/20\n",
            "177/177 [==============================] - 22s 123ms/step - loss: 0.0096 - accuracy: 0.9968 - val_loss: 0.2496 - val_accuracy: 0.9422\n",
            "Epoch 17/20\n",
            "177/177 [==============================] - 22s 126ms/step - loss: 0.0056 - accuracy: 0.9980 - val_loss: 0.2519 - val_accuracy: 0.9460\n",
            "51/51 [==============================] - 5s 98ms/step - loss: 0.2686 - accuracy: 0.9131\n",
            "Test accuracy of 150 is :  0.9130702614784241\n",
            "-----------------------------------------------------\n",
            "No Of Fine-tuning layers: 100\n",
            "Trainable parameters: 44808578\n",
            "Epoch 10/20\n"
          ]
        },
        {
          "output_type": "stream",
          "name": "stderr",
          "text": [
            "/usr/local/lib/python3.10/dist-packages/keras/src/backend.py:5818: UserWarning: \"`binary_crossentropy` received `from_logits=True`, but the `output` argument was produced by a Sigmoid activation and thus does not represent logits. Was this intended?\n",
            "  output, from_logits = _get_logits(\n"
          ]
        },
        {
          "output_type": "stream",
          "name": "stdout",
          "text": [
            "177/177 [==============================] - 45s 131ms/step - loss: 0.2387 - accuracy: 0.9087 - val_loss: 0.2065 - val_accuracy: 0.9268\n",
            "Epoch 11/20\n",
            "177/177 [==============================] - 22s 123ms/step - loss: 0.0822 - accuracy: 0.9697 - val_loss: 0.1887 - val_accuracy: 0.9406\n",
            "Epoch 12/20\n",
            "177/177 [==============================] - 22s 122ms/step - loss: 0.0399 - accuracy: 0.9878 - val_loss: 0.2065 - val_accuracy: 0.9375\n",
            "Epoch 13/20\n",
            "177/177 [==============================] - 21s 120ms/step - loss: 0.0255 - accuracy: 0.9924 - val_loss: 0.2154 - val_accuracy: 0.9368\n",
            "Epoch 14/20\n",
            "177/177 [==============================] - 22s 123ms/step - loss: 0.0196 - accuracy: 0.9945 - val_loss: 0.2190 - val_accuracy: 0.9391\n",
            "Epoch 15/20\n",
            "177/177 [==============================] - 21s 121ms/step - loss: 0.0159 - accuracy: 0.9947 - val_loss: 0.2159 - val_accuracy: 0.9383\n",
            "Epoch 16/20\n",
            "177/177 [==============================] - 22s 124ms/step - loss: 0.0076 - accuracy: 0.9979 - val_loss: 0.2294 - val_accuracy: 0.9375\n",
            "51/51 [==============================] - 5s 98ms/step - loss: 0.2615 - accuracy: 0.9137\n",
            "Test accuracy of 100 is :  0.9136868119239807\n",
            "-----------------------------------------------------\n",
            "No Of Fine-tuning layers: 50\n",
            "Trainable parameters: 46438674\n",
            "Epoch 10/20\n"
          ]
        },
        {
          "output_type": "stream",
          "name": "stderr",
          "text": [
            "/usr/local/lib/python3.10/dist-packages/keras/src/backend.py:5818: UserWarning: \"`binary_crossentropy` received `from_logits=True`, but the `output` argument was produced by a Sigmoid activation and thus does not represent logits. Was this intended?\n",
            "  output, from_logits = _get_logits(\n"
          ]
        },
        {
          "output_type": "stream",
          "name": "stdout",
          "text": [
            "177/177 [==============================] - 50s 137ms/step - loss: 0.2607 - accuracy: 0.9011 - val_loss: 0.2065 - val_accuracy: 0.9198\n",
            "Epoch 11/20\n",
            "177/177 [==============================] - 22s 121ms/step - loss: 0.0902 - accuracy: 0.9663 - val_loss: 0.1871 - val_accuracy: 0.9291\n",
            "Epoch 12/20\n",
            "177/177 [==============================] - 21s 120ms/step - loss: 0.0381 - accuracy: 0.9885 - val_loss: 0.1846 - val_accuracy: 0.9429\n",
            "Epoch 13/20\n",
            "177/177 [==============================] - 22s 125ms/step - loss: 0.0237 - accuracy: 0.9934 - val_loss: 0.1917 - val_accuracy: 0.9460\n",
            "Epoch 14/20\n",
            "177/177 [==============================] - 22s 124ms/step - loss: 0.0179 - accuracy: 0.9943 - val_loss: 0.2012 - val_accuracy: 0.9414\n",
            "Epoch 15/20\n",
            "177/177 [==============================] - 21s 120ms/step - loss: 0.0151 - accuracy: 0.9954 - val_loss: 0.2112 - val_accuracy: 0.9406\n",
            "Epoch 16/20\n",
            "177/177 [==============================] - 22s 123ms/step - loss: 0.0145 - accuracy: 0.9949 - val_loss: 0.2179 - val_accuracy: 0.9375\n",
            "Epoch 17/20\n",
            "177/177 [==============================] - 22s 122ms/step - loss: 0.0081 - accuracy: 0.9973 - val_loss: 0.2054 - val_accuracy: 0.9429\n",
            "51/51 [==============================] - 5s 97ms/step - loss: 0.3008 - accuracy: 0.9125\n",
            "Test accuracy of 50 is :  0.9124537706375122\n"
          ]
        }
      ]
    }
  ]
}